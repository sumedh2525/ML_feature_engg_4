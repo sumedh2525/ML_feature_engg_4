{
 "cells": [
  {
   "cell_type": "markdown",
   "id": "4e0c8a6e-4ba2-4b38-8b5d-b930a4841b64",
   "metadata": {},
   "source": [
    "Q1. What is data encoding? How is it useful in data science?"
   ]
  },
  {
   "cell_type": "markdown",
   "id": "ef91171a-5c8a-4545-85a1-ea5deaea4532",
   "metadata": {},
   "source": [
    "Data encoding is the process of converting data from one format or representation into another format. It is a fundamental concept in computer science and data science that is used to ensure efficient storage, transmission, and manipulation of data. Encoding is particularly important when dealing with different data types, such as text, numerical values, images, audio, and more.\n",
    "\n",
    "In the context of data science, data encoding serves several purposes:\n",
    "\n",
    "Data Compression: Encoding techniques can be used to compress data, reducing storage requirements and transmission times. This is especially useful when working with large datasets or when transmitting data over networks with limited bandwidth.\n",
    "\n",
    "Data Security: Encoding can be used to secure sensitive information by converting it into a format that is not easily interpretable. This is commonly seen in encryption techniques where data is encoded and can only be decoded with the appropriate decryption key.\n",
    "\n",
    "Feature Engineering: In machine learning and data analysis, features often need to be represented in a numerical format that algorithms can understand. Encoding categorical variables (such as converting text-based categories into numerical values) is a common practice in feature engineering.\n",
    "\n",
    "Normalization: Encoding can help in normalizing data, making it consistent and suitable for analysis. For instance, encoding date and time values into a standardized format allows for meaningful comparisons and calculations.\n",
    "\n",
    "Data Integration: When working with data from different sources, encoding can help ensure that the data is represented in a consistent format, facilitating integration and analysis.\n",
    "\n",
    "Preprocessing: Data encoding is often part of the preprocessing pipeline before feeding data into machine learning models. Models generally require numerical inputs, so encoding categorical variables, text, and other data types into numerical representations is essential."
   ]
  },
  {
   "cell_type": "code",
   "execution_count": null,
   "id": "72c51d06-41f6-4ec2-b0e1-36aab0d46265",
   "metadata": {},
   "outputs": [],
   "source": []
  },
  {
   "cell_type": "code",
   "execution_count": null,
   "id": "89120927-93d7-4aad-9a98-2b65872a7342",
   "metadata": {},
   "outputs": [],
   "source": []
  },
  {
   "cell_type": "markdown",
   "id": "016bd7d2-8224-4e99-abaf-3eddd85a1bbf",
   "metadata": {},
   "source": [
    "Q2. What is nominal encoding? Provide an example of how you would use it in a real-world scenario."
   ]
  },
  {
   "cell_type": "markdown",
   "id": "42abf270-d500-4baa-8dff-e195fe811195",
   "metadata": {},
   "source": [
    "Nominal encoding, also known as label encoding, is a technique used to convert categorical variables into numerical values. In nominal encoding, each unique category or label is assigned a unique integer. Unlike ordinal encoding, the numerical values assigned to categories have no inherent order or meaning. This encoding is primarily used when the categorical variable does not have any ordinal relationship or when the data is nominal in nature.\n",
    "\n",
    "Here's an example of how nominal encoding could be used in a real-world scenario:\n",
    "\n",
    "Scenario: Customer Segmentation for an E-commerce Website\n",
    "\n",
    "Suppose you are working for an e-commerce company that wants to perform customer segmentation based on shopping preferences. One of the features you want to use for segmentation is the \"Preferred Product Category\" chosen by each customer. The possible categories are \"Electronics,\" \"Clothing,\" \"Books,\" \"Beauty,\" and \"Sports.\""
   ]
  },
  {
   "cell_type": "code",
   "execution_count": null,
   "id": "d0949a06-7aa1-4890-9cfd-5dd6ab07ebf0",
   "metadata": {},
   "outputs": [],
   "source": []
  },
  {
   "cell_type": "code",
   "execution_count": null,
   "id": "51673ae0-b177-42c5-a9c4-746170d768a6",
   "metadata": {},
   "outputs": [],
   "source": [
    "\n"
   ]
  },
  {
   "cell_type": "markdown",
   "id": "343777b7-9e7e-466f-96c9-4a821af202a3",
   "metadata": {},
   "source": [
    "Q3. In what situations is nominal encoding preferred over one-hot encoding? Provide a practical example."
   ]
  },
  {
   "cell_type": "markdown",
   "id": "6a3e2b95-5abd-4439-b003-60ddc1ec4194",
   "metadata": {},
   "source": [
    "Nominal encoding and one-hot encoding are both techniques used to convert categorical variables into numerical representations, but they are suited for different situations. Nominal encoding is preferred over one-hot encoding when dealing with categorical variables that have a large number of unique categories, limited data, or when there is no meaningful ordinal relationship among the categories.\n",
    "\n",
    "Here's a practical example where nominal encoding might be preferred over one-hot encoding:\n",
    "\n",
    "Scenario: Movie Genre Classification\n",
    "\n",
    "Suppose you are working on a project to classify movie genres based on their descriptions. You have a dataset with movie descriptions and corresponding genre labels. The movie genres include categories like \"Action,\" \"Comedy,\" \"Drama,\" \"Horror,\" \"Romance,\" and many more."
   ]
  },
  {
   "cell_type": "code",
   "execution_count": null,
   "id": "c860faf3-cabf-40f8-87ed-6fd1f9780215",
   "metadata": {},
   "outputs": [],
   "source": []
  },
  {
   "cell_type": "code",
   "execution_count": null,
   "id": "d380cd35-6396-41e0-a1c7-0dc9ca0b67e4",
   "metadata": {},
   "outputs": [],
   "source": []
  },
  {
   "cell_type": "markdown",
   "id": "10d3f64e-75f9-4615-85a3-14aa8f8331c0",
   "metadata": {},
   "source": [
    "Q4. Suppose you have a dataset containing categorical data with 5 unique values. Which encoding\n",
    "technique would you use to transform this data into a format suitable for machine learning algorithms?\n",
    "Explain why you made this choice."
   ]
  },
  {
   "cell_type": "markdown",
   "id": "d5aa784b-d4c7-4216-8d00-f597ea574437",
   "metadata": {},
   "source": [
    "One-Hot Encoding is a technique that converts categorical variables into binary vectors. Each unique category is represented by a separate binary column, and a value of 1 is placed in the column corresponding to the category present in the original data, while the other columns are filled with 0s. This creates a sparse matrix where each unique category is given its own feature column.\n",
    "\n",
    "Here's why One-Hot Encoding is a good choice in this scenario:\n",
    "\n",
    "Preservation of Information: One-Hot Encoding preserves the information about each unique category. Since you have 5 unique values, you would create 5 new binary columns, each representing one of the unique categories. This ensures that no ordinal relationships or artificial hierarchies are introduced among the categories.\n",
    "\n",
    "Suitable for Small Number of Categories: One-Hot Encoding is suitable for datasets with a small number of unique categories. In your case, having only 5 unique values makes one-hot encoding manageable and efficient.\n",
    "\n",
    "Compatibility with Machine Learning Algorithms: Many machine learning algorithms, such as decision trees, random forests, and logistic regression, work well with one-hot encoded data. This encoding allows these algorithms to treat each category independently and make informed decisions."
   ]
  },
  {
   "cell_type": "code",
   "execution_count": 1,
   "id": "3a7bca86-eabe-4514-bbc2-787878727fed",
   "metadata": {},
   "outputs": [
    {
     "name": "stdout",
     "output_type": "stream",
     "text": [
      "   Category_A  Category_B  Category_C  Category_D\n",
      "0           1           0           0           0\n",
      "1           0           1           0           0\n",
      "2           0           0           1           0\n",
      "3           1           0           0           0\n",
      "4           0           0           0           1\n",
      "5           0           1           0           0\n"
     ]
    }
   ],
   "source": [
    "import pandas as pd\n",
    "\n",
    "# Sample dataset with a categorical column\n",
    "data = pd.DataFrame({'Category': ['A', 'B', 'C', 'A', 'D', 'B']})\n",
    "\n",
    "# Perform one-hot encoding\n",
    "encoded_data = pd.get_dummies(data, columns=['Category'], prefix=['Category'])\n",
    "\n",
    "print(encoded_data)\n"
   ]
  },
  {
   "cell_type": "code",
   "execution_count": null,
   "id": "44dc7eff-5e7e-4c85-86df-bb714df07b8f",
   "metadata": {},
   "outputs": [],
   "source": []
  },
  {
   "cell_type": "code",
   "execution_count": null,
   "id": "eacfff1b-46ce-49f8-b36c-1e92556adc42",
   "metadata": {},
   "outputs": [],
   "source": [
    "\n"
   ]
  },
  {
   "cell_type": "markdown",
   "id": "72461a10-839f-4911-9c19-f5020313b59d",
   "metadata": {},
   "source": [
    "Q5. In a machine learning project, you have a dataset with 1000 rows and 5 columns. Two of the columns\n",
    "are categorical, and the remaining three columns are numerical. If you were to use nominal encoding to\n",
    "transform the categorical data, how many new columns would be created? Show your calculations."
   ]
  },
  {
   "cell_type": "markdown",
   "id": "faeab6dd-bc42-403d-b0c4-4930f570bfdd",
   "metadata": {},
   "source": [
    "When using nominal encoding (also known as label encoding) to transform categorical data, you create a new numerical column for each unique category within the categorical variable. Since you have two categorical columns in your dataset, you will create new columns for each unique category in each of these columns.\n",
    "\n",
    "Let's assume that the first categorical column has n1 unique categories and the second categorical column has n2 unique categories.\n",
    "\n",
    "\n",
    "\n",
    "Total new columns = n1 (for the first categorical column) + n2 (for the second categorical column)\n",
    "\n",
    "Since you haven't specified the exact number of unique categories in each categorical column, I can't provide the exact calculation. However, if you know the number of unique categories for each column, you can plug in those values to calculate the total number of new columns created.\n",
    "\n",
    "For example, if the first categorical column has 4 unique categories (n1 = 4) and the second categorical column has 6 unique categories (n2 = 6), then the total number of new columns created would be:\n",
    "\n",
    "Total new columns = 4 (for the first categorical column) + 6 (for the second categorical column) = 10 new columns.\n",
    "\n",
    "\n",
    "\n",
    "\n",
    "\n"
   ]
  },
  {
   "cell_type": "code",
   "execution_count": null,
   "id": "79053646-44d4-4547-aaeb-870800ead279",
   "metadata": {},
   "outputs": [],
   "source": []
  },
  {
   "cell_type": "code",
   "execution_count": null,
   "id": "8b119b07-7dee-498f-9ff5-f861f6b02630",
   "metadata": {},
   "outputs": [],
   "source": [
    "\n"
   ]
  },
  {
   "cell_type": "markdown",
   "id": "2a62d9a8-b791-4c50-ac3d-f6880529acc1",
   "metadata": {},
   "source": [
    "Q6. You are working with a dataset containing information about different types of animals, including their\n",
    "species, habitat, and diet. Which encoding technique would you use to transform the categorical data into\n",
    "a format suitable for machine learning algorithms? Justify your answer."
   ]
  },
  {
   "cell_type": "markdown",
   "id": "679290a5-ac14-4332-85de-a9db5571b733",
   "metadata": {},
   "source": [
    "For a dataset containing information about different types of animals, including their species, habitat, and diet, a suitable encoding technique to transform the categorical data into a format suitable for machine learning algorithms would be a combination of One-Hot Encoding and Label Encoding, depending on the nature of the categorical variables.\n",
    "\n",
    "Here's how you might approach encoding each categorical variable:\n",
    "\n",
    "Species (Nominal Data): Since the species of animals likely have no inherent ordinal relationship, using One-Hot Encoding for the \"Species\" column would be appropriate. This approach creates separate binary columns for each unique species, allowing the machine learning algorithm to treat each species independently.\n",
    "\n",
    "Habitat (Nominal Data): Similar to the \"Species\" column, the \"Habitat\" column can also be encoded using One-Hot Encoding. This technique will create binary columns for each unique habitat type, ensuring that there is no implied hierarchy or order among the habitats.\n",
    "\n",
    "Diet (Categorical Data with Order): Depending on how the \"Diet\" categories are organized, you might consider using Label Encoding if there is a meaningful ordinal relationship among the diet categories. For instance, if the \"Diet\" categories are something like \"Carnivore,\" "
   ]
  },
  {
   "cell_type": "code",
   "execution_count": 4,
   "id": "10aad78b-503a-4bc8-883a-389b3656fd3f",
   "metadata": {},
   "outputs": [
    {
     "name": "stdout",
     "output_type": "stream",
     "text": [
      "   Diet  Species_Elephant  Species_Giraffe  Species_Lion  Habitat_Forest  \\\n",
      "0     1                 0                0             1               0   \n",
      "1     3                 1                0             0               1   \n",
      "2     3                 0                1             0               0   \n",
      "3     1                 0                0             1               0   \n",
      "4     3                 1                0             0               1   \n",
      "\n",
      "   Habitat_Savannah  \n",
      "0                 1  \n",
      "1                 0  \n",
      "2                 1  \n",
      "3                 1  \n",
      "4                 0  \n"
     ]
    }
   ],
   "source": [
    "import pandas as pd\n",
    "\n",
    "# Sample dataset with categorical columns: Species, Habitat, Diet\n",
    "data = pd.DataFrame({\n",
    "    'Species': ['Lion', 'Elephant', 'Giraffe', 'Lion', 'Elephant'],\n",
    "    'Habitat': ['Savannah', 'Forest', 'Savannah', 'Savannah', 'Forest'],\n",
    "    'Diet': ['Carnivore', 'Herbivore', 'Herbivore', 'Carnivore', 'Herbivore']\n",
    "})\n",
    "\n",
    "# Perform One-Hot Encoding for Species and Habitat\n",
    "encoded_data = pd.get_dummies(data, columns=['Species', 'Habitat'], prefix=['Species', 'Habitat'])\n",
    "\n",
    "# Map Diet categories to numerical values using Label Encoding\n",
    "diet_mapping = {'Carnivore': 1, 'Omnivore': 2, 'Herbivore': 3}\n",
    "encoded_data['Diet'] = encoded_data['Diet'].map(diet_mapping)\n",
    "\n",
    "print(encoded_data)\n"
   ]
  },
  {
   "cell_type": "code",
   "execution_count": null,
   "id": "0c6ac661-5baf-4a18-8285-e142cab32e47",
   "metadata": {},
   "outputs": [],
   "source": []
  },
  {
   "cell_type": "markdown",
   "id": "cd41ad51-d34f-48e2-a16c-8bef05657717",
   "metadata": {},
   "source": [
    "Q7.You are working on a project that involves predicting customer churn for a telecommunications\n",
    "company. You have a dataset with 5 features, including the customer's gender, age, contract type,\n",
    "monthly charges, and tenure. Which encoding technique(s) would you use to transform the categorical\n",
    "data into numerical data? Provide a step-by-step explanation of how you would implement the encoding."
   ]
  },
  {
   "cell_type": "markdown",
   "id": "a2239242-530b-4b5b-80fe-59f3491f1d28",
   "metadata": {},
   "source": [
    "To transform the categorical data into numerical data for predicting customer churn in a telecommunications company, you can use a combination of One-Hot Encoding and Label Encoding, depending on the nature of the categorical features. Let's go through each step in detail:\n",
    "\n",
    "Step 1: Load and Explore the Dataset\n",
    "\n",
    "Before encoding the categorical data, you should first load and explore the dataset to understand the characteristics of each categorical feature.\n",
    "\n",
    "Step 2: Identify Categorical Features\n",
    "\n",
    "Identify which features are categorical. In your case, the categorical features are likely to be \"Gender\" and \"Contract Type.\"\n",
    "\n",
    "Step 3: Choose the Encoding Technique\n",
    "\n",
    "Gender (Binary Categorical Data): Since \"Gender\" is binary (e.g., Male/Female), you can use Label Encoding to convert it into numerical values (e.g., 0 for Male and 1 for Female).\n",
    "\n",
    "Contract Type (Nominal Categorical Data): For \"Contract Type,\" which likely has multiple categories (e.g., Month-to-Month, One Year, Two Year), you can use One-Hot Encoding. This will create binary columns for each contract type, indicating whether a customer has a particular contract type or not."
   ]
  },
  {
   "cell_type": "code",
   "execution_count": 2,
   "id": "2360e923-057b-469f-85a0-759a4bada063",
   "metadata": {},
   "outputs": [
    {
     "name": "stdout",
     "output_type": "stream",
     "text": [
      "   Gender  ContractType  Age  monthly_charges  tenure\n",
      "0    Male             1   25             65.5      12\n",
      "1  Female             2   34             45.6      24\n",
      "2    Male             0   45             95.0       6\n",
      "3  Female             4   29             80.4      36\n",
      "4    Male             3   40             56.0       8\n"
     ]
    }
   ],
   "source": [
    "import pandas as pd\n",
    "from sklearn.preprocessing import LabelEncoder\n",
    "\n",
    "\n",
    "dataset = pd.DataFrame({\n",
    "    'Gender' : ['Male','Female','Male','Female','Male'],\n",
    "    'ContractType' : ['Month-to-Month','One year','Month to month','two yr','three yr'],\n",
    "    'Age' : [25,34,45,29,40],\n",
    "    'monthly_charges' : [65.5,45.6,95.0,80.4,56],\n",
    "    'tenure' : [12,24,6,36,8]\n",
    "})\n",
    "\n",
    "label_encoder = LabelEncoder()\n",
    "dataset['ContractType'] = label_encoder.fit_transform(dataset['ContractType'])\n",
    "print(dataset)"
   ]
  },
  {
   "cell_type": "code",
   "execution_count": 1,
   "id": "e56986b0-4bc4-430b-aca6-3cf8a55c6281",
   "metadata": {},
   "outputs": [
    {
     "data": {
      "text/html": [
       "<div>\n",
       "<style scoped>\n",
       "    .dataframe tbody tr th:only-of-type {\n",
       "        vertical-align: middle;\n",
       "    }\n",
       "\n",
       "    .dataframe tbody tr th {\n",
       "        vertical-align: top;\n",
       "    }\n",
       "\n",
       "    .dataframe thead th {\n",
       "        text-align: right;\n",
       "    }\n",
       "</style>\n",
       "<table border=\"1\" class=\"dataframe\">\n",
       "  <thead>\n",
       "    <tr style=\"text-align: right;\">\n",
       "      <th></th>\n",
       "      <th>Gender</th>\n",
       "      <th>ContractType</th>\n",
       "      <th>Age</th>\n",
       "      <th>monthly_charges</th>\n",
       "      <th>tenure</th>\n",
       "    </tr>\n",
       "  </thead>\n",
       "  <tbody>\n",
       "    <tr>\n",
       "      <th>0</th>\n",
       "      <td>0</td>\n",
       "      <td>Month-to-Month</td>\n",
       "      <td>25</td>\n",
       "      <td>65.5</td>\n",
       "      <td>12</td>\n",
       "    </tr>\n",
       "    <tr>\n",
       "      <th>1</th>\n",
       "      <td>1</td>\n",
       "      <td>One year</td>\n",
       "      <td>34</td>\n",
       "      <td>45.6</td>\n",
       "      <td>24</td>\n",
       "    </tr>\n",
       "    <tr>\n",
       "      <th>2</th>\n",
       "      <td>0</td>\n",
       "      <td>Month to month</td>\n",
       "      <td>45</td>\n",
       "      <td>95.0</td>\n",
       "      <td>6</td>\n",
       "    </tr>\n",
       "    <tr>\n",
       "      <th>3</th>\n",
       "      <td>1</td>\n",
       "      <td>two yr</td>\n",
       "      <td>29</td>\n",
       "      <td>80.4</td>\n",
       "      <td>36</td>\n",
       "    </tr>\n",
       "    <tr>\n",
       "      <th>4</th>\n",
       "      <td>0</td>\n",
       "      <td>three yr</td>\n",
       "      <td>40</td>\n",
       "      <td>56.0</td>\n",
       "      <td>8</td>\n",
       "    </tr>\n",
       "  </tbody>\n",
       "</table>\n",
       "</div>"
      ],
      "text/plain": [
       "   Gender    ContractType  Age  monthly_charges  tenure\n",
       "0       0  Month-to-Month   25             65.5      12\n",
       "1       1        One year   34             45.6      24\n",
       "2       0  Month to month   45             95.0       6\n",
       "3       1          two yr   29             80.4      36\n",
       "4       0        three yr   40             56.0       8"
      ]
     },
     "execution_count": 1,
     "metadata": {},
     "output_type": "execute_result"
    }
   ],
   "source": [
    "import pandas as pd\n",
    "\n",
    "dataset = pd.DataFrame({\n",
    "    'Gender' : ['Male','Female','Male','Female','Male'],\n",
    "    'ContractType' : ['Month-to-Month','One year','Month to month','two yr','three yr'],\n",
    "    'Age' : [25,34,45,29,40],\n",
    "    'monthly_charges' : [65.5,45.6,95.0,80.4,56],\n",
    "    'tenure' : [12,24,6,36,8]\n",
    "})\n",
    "\n",
    "\n",
    "\n",
    "encoded_gender = pd.get_dummies(dataset, columns=['Age','tenure'], prefix=['Age','tenure'])\n",
    "gender_map = {'Male' : 0,'Female':1}\n",
    "\n",
    "dataset['Gender'] = dataset['Gender'].map(gender_map)\n",
    "\n",
    "dataset"
   ]
  },
  {
   "cell_type": "code",
   "execution_count": null,
   "id": "e79d2243-3595-4788-8b6f-a51ea8a41a46",
   "metadata": {},
   "outputs": [],
   "source": []
  }
 ],
 "metadata": {
  "kernelspec": {
   "display_name": "Python 3 (ipykernel)",
   "language": "python",
   "name": "python3"
  },
  "language_info": {
   "codemirror_mode": {
    "name": "ipython",
    "version": 3
   },
   "file_extension": ".py",
   "mimetype": "text/x-python",
   "name": "python",
   "nbconvert_exporter": "python",
   "pygments_lexer": "ipython3",
   "version": "3.10.8"
  }
 },
 "nbformat": 4,
 "nbformat_minor": 5
}
